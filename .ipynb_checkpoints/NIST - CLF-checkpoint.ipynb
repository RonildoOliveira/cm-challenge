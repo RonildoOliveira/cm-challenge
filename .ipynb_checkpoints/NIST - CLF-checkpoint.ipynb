{
 "cells": [
  {
   "cell_type": "markdown",
   "metadata": {},
   "source": [
    "### Converte o nome da classe em HEX para STR\n"
   ]
  },
  {
   "cell_type": "code",
   "execution_count": 58,
   "metadata": {},
   "outputs": [],
   "source": [
    "# Converte o nome da classe em HEX para STR\n",
    "# NIST Database 19 \n",
    "def map_hex(st):\n",
    "    st = st[-2:]\n",
    "    return bytearray.fromhex(st).decode()"
   ]
  },
  {
   "cell_type": "markdown",
   "metadata": {},
   "source": [
    "### Retorna o indice na enésima ocorrência de um caractere numa string"
   ]
  },
  {
   "cell_type": "code",
   "execution_count": 59,
   "metadata": {
    "scrolled": true
   },
   "outputs": [],
   "source": [
    "# Retorna o indice na enésima ocorrência de um caractere numa string\n",
    "def find_nth(string, char, num_ocorrencias):\n",
    "    index = string.find(char)\n",
    "    while index >= 0 and num_ocorrencias > 1:\n",
    "        index = string.find(char, index + len(char))\n",
    "        num_ocorrencias -= 1\n",
    "    return index"
   ]
  },
  {
   "cell_type": "markdown",
   "metadata": {},
   "source": [
    "#### Radial Basis Function RBF (Função Base Radial):\n",
    "\n",
    "##### Gamma\n",
    "gamma é um parêmetro do kernel RBF e pode ser pensado como o \"espalhar\" do kernel e, portanto, a região de decisão. \n",
    "- Quando o valor de gamma é pequeno, a 'curva' de decisão é baixa então a região de decisão é muito ampla.\n",
    "- Quando o valor de gamma é alto, a 'curva' de decisão é alta, que cria 'ilhas' de decisões ao redor dos dados.\n",
    "\n",
    "##### C\n",
    "C é um parâmetro de aprendizagem do SVC e é a penalidade por classificação incorreta dos dados.\n",
    "- Quando C é pequeno, o classificador não é prejudicado com dados de classificação incorreta (alta polarização, baixa variação). \n",
    "- Quando C é grande, o classificador é fortemente penalizado por dados de classificação incorreta e, portanto, evita quaisquer pontos de dados de classificação errada (baixa tendência, variância alta).\n",
    "\n",
    "https://chrisalbon.com/machine-learning/svc_parameters_using_rbf_kernel.html"
   ]
  },
  {
   "cell_type": "markdown",
   "metadata": {},
   "source": [
    "### Pillow (PIL Fork) Modes\n",
    "\n",
    "The mode of an image defines the type and depth of a pixel in the image. The current release supports the following standard modes:\n",
    "\n",
    "- 1 (1-bit pixels, black and white, stored with one pixel per byte) (Acurácia cai muito, porém muito rápido)\n",
    "- ** L (8-bit pixels, black and white) **\n",
    "- P (8-bit pixels, mapped to any other mode using a color palette)\n",
    "- RGB (3x8-bit pixels, true color)\n",
    "- RGBA (4x8-bit pixels, true color with transparency mask)\n",
    "- CMYK (4x8-bit pixels, color separation)\n",
    "- YCbCr (3x8-bit pixels, color video format)\n",
    "- LAB (3x8-bit pixels, the L*a*b color space)\n",
    "- HSV (3x8-bit pixels, Hue, Saturation, Value color space)\n",
    "- I (32-bit signed integer pixels)\n",
    "- F (32-bit floating point pixels)"
   ]
  },
  {
   "cell_type": "code",
   "execution_count": 60,
   "metadata": {
    "scrolled": true
   },
   "outputs": [
    {
     "name": "stdout",
     "output_type": "stream",
     "text": [
      "CARREGANDO BIBLIOTECAS\n"
     ]
    }
   ],
   "source": [
    "#!/usr/bin/env python -W ignore::DeprecationWarning\n",
    "\n",
    "print(\"CARREGANDO BIBLIOTECAS\")\n",
    "\n",
    "import os # Habilite para usar no Windows\n",
    "import numpy as np\n",
    "import itertools\n",
    "from sklearn.pipeline import Pipeline\n",
    "from sklearn.svm import SVC\n",
    "from sklearn.model_selection import train_test_split\n",
    "# from sklearn.model_selection import GridSearchCV # versao 0.20\n",
    "from sklearn.grid_search import GridSearchCV\n",
    "from sklearn.metrics import classification_report\n",
    "from sklearn.metrics import confusion_matrix\n",
    "\n",
    "from PIL import Image\n",
    "\n",
    "# Cross Validation Classification LogLoss\n",
    "import pandas as pd\n",
    "from sklearn import model_selection\n",
    "from sklearn.linear_model import LogisticRegression\n",
    "from sklearn.linear_model import LinearRegression\n",
    "\n",
    "\n",
    "# Plot Confusion Matrix\n",
    "#from sklearn_evaluation import plot\n",
    "import matplotlib.pyplot as plt \n",
    "\n",
    "# Salvar os dados\n",
    "import pickle\n",
    "\n",
    "import warnings\n",
    "import sklearn.exceptions\n",
    "warnings.filterwarnings(\"ignore\", category=sklearn.exceptions.UndefinedMetricWarning)\n"
   ]
  },
  {
   "cell_type": "code",
   "execution_count": 61,
   "metadata": {},
   "outputs": [],
   "source": [
    "### Parametros ###\n",
    "reshape_img = 16 # Tamanho em pixels para redimensionamento das imagens\n",
    "diretorio_img = 'data/' # Diretorio das Imagens Naturais\n",
    "\n",
    "X = [] # Dados das Imagens Naturais\n",
    "Y = [] # Targets (Alvos)\n",
    "\n",
    "figure_dim = 62 # Dimensao do plot da Matriz de Confusao , 15 é um bom valor\n",
    "nome_modelo_arquivo = 'finalized_model.sav' # Nome do Modelo Salvo"
   ]
  },
  {
   "cell_type": "markdown",
   "metadata": {},
   "source": [
    " - X_train : Dados\n",
    " - X_test :\n",
    " - Y_train\n",
    " - Y_test\n",
    " \n",
    "To avoid over-fitting, we have to define two different sets : a training set X_train, y_train which is used for learning the parameters of a predictive model, and a testing set X_test, y_test which is used for evaluating the fitted predictive model.\n",
    "\n",
    "In scikit-learn such a random split can be quickly computed with the train_test_split helper function. Let load the iris data set to fit a linear Support Vector Machine model on it:"
   ]
  },
  {
   "cell_type": "markdown",
   "metadata": {},
   "source": [
    "### Carregamento das Imagens:\n",
    "- Mapeamento de todas as imagens em todos os subdiretorios\n",
    "- X[] é um array de imagens\n",
    "- Y[] é um array de targets, um target possui o nome da classe que o representa\n",
    "\n",
    "- target_list[] é um array com o nome de todas as classes distintas"
   ]
  },
  {
   "cell_type": "code",
   "execution_count": 62,
   "metadata": {},
   "outputs": [
    {
     "name": "stdout",
     "output_type": "stream",
     "text": [
      "PREPROCESSANDO IMAGENS\n"
     ]
    }
   ],
   "source": [
    "print(\"PREPROCESSANDO IMAGENS\")\n",
    "\n",
    "from skimage import io, img_as_float\n",
    "\n",
    "def crop_bg_image(path):\n",
    "    image = img_as_float(io.imread(path))\n",
    "    \n",
    "    # Select all pixels almost equal to white\n",
    "    # (almost, because there are some edge effects in jpegs\n",
    "    # so the boundaries may not be exactly white)\n",
    "    white = np.array([1, 1, 1])\n",
    "    mask = np.abs(image - white).sum(axis=2) < 0.05\n",
    "\n",
    "    # Find the bounding box of those pixels\n",
    "    coords = np.array(np.nonzero(~mask))\n",
    "    top_left = np.min(coords, axis=1)\n",
    "    bottom_right = np.max(coords, axis=1)\n",
    "\n",
    "    out = image[top_left[0]:bottom_right[0],\n",
    "                top_left[1]:bottom_right[1]]\n",
    "    \n",
    "    return out"
   ]
  },
  {
   "cell_type": "code",
   "execution_count": 63,
   "metadata": {},
   "outputs": [
    {
     "name": "stdout",
     "output_type": "stream",
     "text": [
      "PERCORRENDO IMAGENS\n",
      "MODELO ORGANIZADO\n",
      "CRIANDO MODELO\n",
      "MODELO CRIADO\n"
     ]
    }
   ],
   "source": [
    "print(\"PERCORRENDO IMAGENS\")\n",
    "\n",
    "for path, subdirs, files in os.walk(diretorio_img):\n",
    "    for filename in files:\n",
    "        if '.db' in filename:\n",
    "            continue\n",
    "        f = os.path.join(path, filename)\n",
    "        target = filename[0:find_nth(filename,'_',2)] # Segunda ocorrencia do '_' 'train_30_00000' = 'train_30'\n",
    "        # target = filename[9:] # '00003'\n",
    "        #img = Image.open(f).convert('L').resize((reshape_img, reshape_img), resample=Image.LANCZOS)        \n",
    "        #X.append(np.array(img).reshape(reshape_img * reshape_img,))\n",
    "        img = Image.open(f).convert('L').resize((reshape_img, reshape_img), resample=Image.LANCZOS)        \n",
    "        X.append(np.array(img).reshape(reshape_img * reshape_img,))\n",
    "        Y.append(target)\n",
    "\n",
    "print(\"MODELO ORGANIZADO\")\n",
    "\n",
    "target_list = next(os.walk(diretorio_img))[1] # [1] corresponde aos diretorios diretamente inferiores\n",
    "figure_dim = len(target_list) # classes\n",
    "\n",
    "#Mapear o Y_train https://stackoverflow.com/questions/28016752/sklearn-trying-to-convert-string-list-to-floats\n",
    "from sklearn.preprocessing import LabelEncoder\n",
    "lb = LabelEncoder()\n",
    "Y = lb.fit_transform(Y)\n",
    "\n",
    "X = np.array(X)\n",
    "\n",
    "print(\"CRIANDO MODELO\")\n",
    "X_train, X_test, Y_train, Y_test = train_test_split(X, Y, test_size=.3, random_state=11)\n",
    "print(\"MODELO CRIADO\")"
   ]
  },
  {
   "cell_type": "code",
   "execution_count": 64,
   "metadata": {},
   "outputs": [],
   "source": [
    "def plot_nice_confusion_matrix(cm, classes, normalize=False, title='Confusion matrix', cmap=plt.cm.YlOrRd):\n",
    "\n",
    "    plt.figure(figsize=(figure_dim,figure_dim))\n",
    "    \n",
    "    if normalize:\n",
    "        cm = cm.astype('float') / cm.sum(axis=1)[:, np.newaxis]\n",
    "        print(\"Normalized confusion matrix\")\n",
    "    else:\n",
    "        print('Confusion matrix, without normalization')\n",
    "\n",
    "    # Colocar mais um parametro\n",
    "    #print(cm)\n",
    "    plt.imshow(cm, interpolation='nearest', cmap=cmap)\n",
    "    plt.title(title)\n",
    "    plt.colorbar()    \n",
    "\n",
    "    tick_marks = np.arange(len(classes))\n",
    "    plt.xticks(tick_marks, map(map_hex, classes))\n",
    "    plt.yticks(tick_marks, map(map_hex, classes))\n",
    "\n",
    "    fmt = '.2f' if normalize else 'd'\n",
    "    thresh = cm.max() / 2.\n",
    "    for i, j in itertools.product(range(cm.shape[0]), range(cm.shape[1])):\n",
    "        plt.text(j, i, format(cm[i, j], fmt),\n",
    "                 horizontalalignment=\"center\",\n",
    "                 color=\"white\" if cm[i, j] > thresh else \"black\")\n",
    "\n",
    "    plt.tight_layout()\n",
    "    plt.ylabel('True label')\n",
    "    plt.xlabel('Predicted label')\n",
    "    \n",
    "    plt.show()\n",
    "\n"
   ]
  },
  {
   "cell_type": "code",
   "execution_count": null,
   "metadata": {},
   "outputs": [],
   "source": []
  },
  {
   "cell_type": "code",
   "execution_count": 65,
   "metadata": {
    "scrolled": true
   },
   "outputs": [],
   "source": [
    "## Confusion Matrix\n",
    "# confusion_matrix = confusion_matrix(Y_test, predictions)\n",
    "# print(confusion_matrix)\n",
    "def plot_confusion_matrix(confusion_matrix, normalize=False):\n",
    "    if(normalize):\n",
    "        ## Confusio Matrix With Normalization\n",
    "        confusion_matrix = confusion_matrix.astype('float') / confusion_matrix.sum(axis=1)[:, np.newaxis]\n",
    "        \n",
    "    plt.figure(figsize=(figure_dim,figure_dim))\n",
    "    plt.imshow(confusion_matrix, interpolation='nearest', cmap=plt.cm.Blues)\n",
    "    plt.title('Confusion matrix') \n",
    "    plt.colorbar() \n",
    "    #plt.ylabel('True label') \n",
    "    #plt.xlabel('Predicted label')\n",
    "\n",
    "    tick_marks = np.arange(len(target_list))\n",
    "    plt.xticks(tick_marks, map(map_hex, target_list))\n",
    "    plt.yticks(tick_marks, map(map_hex, target_list))\n",
    "\n",
    "    plt.show()\n"
   ]
  },
  {
   "cell_type": "markdown",
   "metadata": {},
   "source": [
    "### Varias Tecnicas"
   ]
  },
  {
   "cell_type": "code",
   "execution_count": null,
   "metadata": {},
   "outputs": [],
   "source": []
  },
  {
   "cell_type": "code",
   "execution_count": 66,
   "metadata": {
    "scrolled": true
   },
   "outputs": [
    {
     "name": "stdout",
     "output_type": "stream",
     "text": [
      "APLICANDO TECNICAS\n",
      "name Linear SVM\n",
      "fit Linear SVM\n",
      "predict Linear SVM\n",
      "Linear SVM\t 1.0\n",
      "             precision    recall  f1-score   support\n",
      "\n",
      "          0       1.00      0.75      0.86         4\n",
      "          1       0.75      0.60      0.67         5\n",
      "          2       0.50      1.00      0.67         1\n",
      "          3       1.00      1.00      1.00         1\n",
      "          4       0.75      1.00      0.86         3\n",
      "          5       1.00      1.00      1.00         4\n",
      "\n",
      "avg / total       0.86      0.83      0.83        18\n",
      "\n"
     ]
    },
    {
     "data": {
      "image/png": "[encoded data removed]",
      "text/plain": [
       "<matplotlib.figure.Figure at 0x7f944aafaf28>"
      ]
     },
     "metadata": {},
     "output_type": "display_data"
    }
   ],
   "source": [
    "#lin_reg_model = LinearRegression()\n",
    "#lin_reg_model.fit(X_train, Y_train)\n",
    "\n",
    "from sklearn.neural_network import MLPClassifier\n",
    "from sklearn.neighbors import KNeighborsClassifier\n",
    "from sklearn.svm import SVC\n",
    "from sklearn.gaussian_process import GaussianProcessClassifier\n",
    "from sklearn.gaussian_process.kernels import RBF\n",
    "from sklearn.tree import DecisionTreeClassifier\n",
    "from sklearn.ensemble import RandomForestClassifier, AdaBoostClassifier\n",
    "from sklearn.naive_bayes import GaussianNB\n",
    "from sklearn.discriminant_analysis import QuadraticDiscriminantAnalysis\n",
    "\n",
    "### for ROC\n",
    "from sklearn.metrics import roc_curve, auc\n",
    "#import matplotlib.pyplot as plt\n",
    "from sklearn.preprocessing import label_binarize\n",
    "\n",
    "\n",
    "ESTIMATORS = {\n",
    "    #\"Nearest NB\": KNeighborsClassifier(3, n_jobs=-1),\n",
    "    \"Linear SVM\": SVC(kernel=\"linear\", C=0.025),\n",
    "    #[]\"RBF - SVM\": SVC(),\n",
    "    #[]\"Gaussian Pro.:\": GaussianProcessClassifier(1.0 * RBF(1.0), random_state=11, n_jobs=-1),#prerigo\n",
    "    #[]\"Decision Tree\":DecisionTreeClassifier(max_depth=5),\n",
    "    #\"Random Forest\": RandomForestClassifier(max_depth=5, n_estimators=10, max_features=1), \n",
    "    #\"MLPClassifier\": MLPClassifier(alpha=1, random_state=11, tol=0.0000001),\n",
    "    #[]\"AdaBoost\":  AdaBoostClassifier(random_state=11),\n",
    "    #\"Gauss Naive Bayes\": GaussianNB(),\n",
    "    #[]\"QDA      \": QuadraticDiscriminantAnalysis(tol=0.00000001),\n",
    "    #\"Logistc Regression\": LogisticRegression(),\n",
    "}\n",
    "\n",
    "scores = []\n",
    "y_test_predict = dict()\n",
    "\n",
    "print(\"APLICANDO TECNICAS\")\n",
    "\n",
    "for name, estimator in ESTIMATORS.items():\n",
    "    print('name %s' % name)\n",
    "    estimator.fit(X_train, Y_train)\n",
    "    print('fit %s' % name) \n",
    "    y_test_predict[name] = estimator.predict(X_test)\n",
    "    pred = y_test_predict[name]\n",
    "    print('predict %s' % name)\n",
    "    #Mapear o Y_train https://stackoverflow.com/questions/28016752/sklearn-trying-to-convert-string-list-to-floats\n",
    "    from sklearn.preprocessing import LabelEncoder\n",
    "    lb = LabelEncoder()\n",
    "    y_test_predict[name] = lb.fit_transform(y_test_predict[name])\n",
    "    \n",
    "    # Imprime nome da tecnica    \n",
    "    print(name + \"\\t %s\" % estimator.score(X_train, Y_train))\n",
    "    \n",
    "    # Imprime nome da Classification Report\n",
    "    #print(classification_report(Y_test, y_test_predict[name]))\n",
    "\n",
    "    # Adiciona Resultado a lista de scores\n",
    "    scores.append(estimator.score(X_train, Y_train))\n",
    "    cfm = confusion_matrix(Y_test, pred)\n",
    "    print(classification_report(Y_test, pred))\n",
    "    #plot_confusion_matrix(cfm, True)\n",
    "    #plot_nice_confusion_matrix(cfm, classes=target_list, normalize=True,title=name+'\\nNormalized confusion matrix')\n",
    "    \n",
    "    # ----------------- ROC\n",
    "    fpr, tpr, thresholds = roc_curve(Y_test, pred, pos_label=1)\n",
    "    \n",
    "    roc_auc = auc(fpr, tpr)\n",
    "\n",
    "    #plt.figure()\n",
    "    plt.plot(fpr, tpr, color='red',\n",
    "             lw=2, label='Curva ROC (Área = %0.5f)' % roc_auc)\n",
    "    plt.plot([0, 1], [0, 1], color='gray', lw=2, linestyle='--')\n",
    "    plt.xlim([0.0, 1.0])\n",
    "    plt.ylim([-0.10, 1.10])\n",
    "    plt.xlabel('Falsos Positivos')\n",
    "    plt.ylabel('Verdadeiros Positivos')\n",
    "    plt.title('Curva ROC (%s)' % name)\n",
    "    plt.legend(loc=\"lower right\")\n",
    "    #plt.show()\n",
    "    # ----------------- ROC\n",
    "\n",
    "    #fig = plt.figure()\n",
    "    plt.savefig('Curva ROC - %s.png' % name, bbox_inches='tight', dpi=600);\n",
    "    plt.show()\n",
    "#print(scores)\n"
   ]
  },
  {
   "cell_type": "markdown",
   "metadata": {},
   "source": [
    "### Salva Modelo"
   ]
  },
  {
   "cell_type": "code",
   "execution_count": 67,
   "metadata": {},
   "outputs": [
    {
     "name": "stdout",
     "output_type": "stream",
     "text": [
      "Terminado\n"
     ]
    }
   ],
   "source": [
    "print('Terminado')"
   ]
  }
 ],
 "metadata": {
  "kernelspec": {
   "display_name": "Python 3",
   "language": "python",
   "name": "python3"
  },
  "language_info": {
   "codemirror_mode": {
    "name": "ipython",
    "version": 3
   },
   "file_extension": ".py",
   "mimetype": "text/x-python",
   "name": "python",
   "nbconvert_exporter": "python",
   "pygments_lexer": "ipython3",
   "version": "3.7.3"
  }
 },
 "nbformat": 4,
 "nbformat_minor": 2
}
